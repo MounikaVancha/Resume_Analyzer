{
 "cells": [
  {
   "cell_type": "markdown",
   "metadata": {},
   "source": [
    "# Building Model\n",
    "### 1. Importing Packages"
   ]
  },
  {
   "cell_type": "code",
   "execution_count": 20,
   "metadata": {},
   "outputs": [],
   "source": [
    "import re\n",
    "import spacy\n",
    "import numpy as np\n",
    "import pandas as pd\n",
    "import matplotlib.pyplot as plt\n",
    "from pprint import pprint\n",
    "from io import StringIO\n",
    "from collections import OrderedDict\n",
    "from collections import Counter\n",
    "from itertools import chain\n",
    "from spacy import displacy\n",
    "from spacy.matcher import PhraseMatcher\n",
    "nlp = spacy.load('en_core_web_sm')\n",
    "stopwords = nlp.Defaults.stop_words"
   ]
  },
  {
   "cell_type": "markdown",
   "metadata": {},
   "source": [
    "### Reading pdfs to match the keywords with our custom built keyword dictionary"
   ]
  },
  {
   "cell_type": "code",
   "execution_count": 21,
   "metadata": {},
   "outputs": [],
   "source": [
    "def read_data(resume,keyword):\n",
    "    df = pd.read_csv(resume)\n",
    "    Keywords_dict = pd.read_csv(keyword)\n",
    "    df.drop(df[df['Masters']==0].index, inplace=True)                  #Delete the rows which have Masters = 0\n",
    "    df.drop(df[df['Total_Experience']>12].index, inplace=True)         #Delete the rows who have Total_Experience more than 10 years\n",
    "    df['Exp_Sum'] = df['Summary'] + df['Experience']\n",
    "    return df,Keywords_dict"
   ]
  },
  {
   "cell_type": "markdown",
   "metadata": {},
   "source": [
    "### Phrase Matching"
   ]
  },
  {
   "cell_type": "code",
   "execution_count": 34,
   "metadata": {},
   "outputs": [],
   "source": [
    "def model(df,Keywords_dict):\n",
    "    stats_words = [nlp(text.lower()) for text in Keywords_dict['Statistics'].dropna(axis = 0)]\n",
    "    NLP_words = [nlp(text.lower()) for text in Keywords_dict['NLP'].dropna(axis = 0)]\n",
    "    ML_words = [nlp(text.lower()) for text in Keywords_dict['Machine Learning'].dropna(axis = 0)]\n",
    "    DL_words = [nlp(text.lower()) for text in Keywords_dict['Deep Learning'].dropna(axis = 0)]\n",
    "    prog_words = [nlp(text.lower()) for text in Keywords_dict['Programming Language'].dropna(axis = 0)]\n",
    "    Data_Engineering_words = [nlp(text.lower()) for text in Keywords_dict['Data Engineering'].dropna(axis = 0)]\n",
    "    \n",
    "    matcher = PhraseMatcher(nlp.vocab)\n",
    "    matcher.add('Stats', None, *stats_words)\n",
    "    matcher.add('NLP', None, *NLP_words)\n",
    "    matcher.add('ML', None, *ML_words)\n",
    "    matcher.add('DL', None, *DL_words)\n",
    "    matcher.add('ProgL', None, *prog_words)\n",
    "    matcher.add('DE', None, *Data_Engineering_words)\n",
    "    \n",
    "    df_key = pd.DataFrame(df['Candidate_Name'])\n",
    "    df_key['keywords'] = ''\n",
    "    for i,values in df.iterrows():\n",
    "        exp_sum = df.loc[i,\"Exp_Sum\"] \n",
    "        exp_sum = exp_sum.lower()\n",
    "        doc = nlp(exp_sum)\n",
    "        matches = matcher(doc)\n",
    "        d = []\n",
    "        for match_id, start, end in matches:\n",
    "            rule_id = nlp.vocab.strings[match_id]      \n",
    "            span = doc[start : end]                    \n",
    "            d.append((rule_id, span.text)) \n",
    "        keywords = \"\\n\".join(f'{i[0]} {i[1]} ({j})' for i,j in Counter(d).items())\n",
    "        df_key.loc[i,'keywords']=keywords\n",
    "        keywords = ''\n",
    "    return df_key"
   ]
  },
  {
   "cell_type": "code",
   "execution_count": 23,
   "metadata": {},
   "outputs": [],
   "source": [
    "def splitter(s):\n",
    "    return list(chain.from_iterable(s.str.split('\\n')))"
   ]
  },
  {
   "cell_type": "code",
   "execution_count": 24,
   "metadata": {},
   "outputs": [],
   "source": [
    "def count_subject(df_key):\n",
    "    lengths = df_key['keywords'].str.split('\\n').map(len)\n",
    "    analysis = pd.DataFrame({'Candidate_name':np.repeat(df_key['Candidate_Name'],lengths),\n",
    "                           'keywords':splitter(df_key['keywords'])})\n",
    "    analysis.reset_index(drop=True,inplace=True)\n",
    "    analysis[['Subject','Keywords']] = analysis.keywords.str.split(' ',1,expand=True)\n",
    "    analysis['Count'] = analysis['Keywords'].str.split('(').str[1].str.split(')').str[0]\n",
    "    analysis['Keywords'] = analysis['Keywords'].str.split('(').str[0]\n",
    "    analysis.drop('keywords', axis=1, inplace=True)\n",
    "    analysis = analysis.dropna()\n",
    "    analysis.head(10)\n",
    "    return analysis"
   ]
  },
  {
   "cell_type": "markdown",
   "metadata": {},
   "source": [
    "### Code to count words under each category and visulaize it through Matplotlib"
   ]
  },
  {
   "cell_type": "code",
   "execution_count": 25,
   "metadata": {},
   "outputs": [],
   "source": [
    "def filter_top(analysis):\n",
    "    final_analysis = analysis['Keywords'].groupby([analysis['Candidate_name'], analysis['Subject']]).count().unstack()\n",
    "    final_analysis['Na_count'] = final_analysis.isnull().sum(axis=1)\n",
    "    final_analysis = final_analysis.sort_values(by='Na_count', ascending=True)\n",
    "    final_analysis = final_analysis[final_analysis['Na_count']<=2]\n",
    "    final_analysis = final_analysis.sort_values(by=['Na_count','ML','NLP','DE'], ascending=[True, False, False, False])\n",
    "    final_analysis = final_analysis.drop('Na_count', axis=1).head(10)\n",
    "    Candidates_data = final_analysis.copy()\n",
    "    final_analysis = final_analysis.iloc[::-1]\n",
    "    final_analysis.reset_index(inplace = True)\n",
    "    final_analysis.fillna(0, inplace=True)        #all 6 top -desc\n",
    "    new_data = final_analysis.iloc[:,1:]\n",
    "    new_data.index = final_analysis['Candidate_name']\n",
    "    return new_data,Candidates_data"
   ]
  },
  {
   "cell_type": "code",
   "execution_count": 26,
   "metadata": {},
   "outputs": [],
   "source": [
    "def graph(new_data):\n",
    "    plt.rcParams.update({'font.size': 15})\n",
    "    ax = new_data.plot.barh(title=\"Resume keywords by category\", legend=True, figsize=(25,10), stacked=True)\n",
    "    labels = []\n",
    "    for j in new_data.columns:\n",
    "        for i in new_data.index:\n",
    "            label = str(j)+\": \" + str(new_data.loc[i][j])\n",
    "            labels.append(label)\n",
    "    plt.savefig('Resume Graph.jpg')\n",
    "    plt.show()"
   ]
  },
  {
   "cell_type": "code",
   "execution_count": 58,
   "metadata": {},
   "outputs": [],
   "source": [
    "def show_top(Candidates_data,df):\n",
    "    Candidates_data.reset_index(inplace = True)\n",
    "    Candidates = pd.merge(Candidates_data['Candidate_name'], df[['Candidate_Name','Total_Experience','Linkedin_Profile','Contact_Info']], left_on='Candidate_name', right_on='Candidate_Name', how='left')\n",
    "    Candidates.index = range(1,len(Candidates)+1)\n",
    "    Candidates['Rank'] = Candidates.index\n",
    "    Candidates = Candidates.drop('Candidate_name', axis=1)\n",
    "    return Candidates"
   ]
  },
  {
   "cell_type": "code",
   "execution_count": 63,
   "metadata": {},
   "outputs": [],
   "source": [
    "def main():\n",
    "    resume = 'Resume_Data.csv'\n",
    "    keyword = 'keywords_dict.csv'\n",
    "    df,Keywords_dict = read_data(resume,keyword)\n",
    "    df_key = model(df,Keywords_dict)\n",
    "    analysis = count_subject(df_key)\n",
    "    new_data,Candidates_data = filter_top(analysis)\n",
    "#     graph(new_data)\n",
    "    Candidates = show_top(Candidates_data,df)\n",
    "    return Candidates\n",
    "#     Candidates.to_csv('result.csv', index = False)"
   ]
  },
  {
   "cell_type": "code",
   "execution_count": 64,
   "metadata": {},
   "outputs": [
    {
     "data": {
      "image/png": "[encoded data removed]",
      "text/plain": [
       "<Figure size 1800x720 with 1 Axes>"
      ]
     },
     "metadata": {
      "needs_background": "light"
     },
     "output_type": "display_data"
    },
    {
     "name": "stdout",
     "output_type": "stream",
     "text": [
      "           Candidate_Name  Total_Experience  \\\n",
      "1           Karan Chandra              7.83   \n",
      "2           Ashish Shinde              3.50   \n",
      "3          Karan Sindwani              4.83   \n",
      "4              Lulu Cheng              8.50   \n",
      "5                 Yang L.              9.42   \n",
      "6   Zhaoying (April) Tang              9.42   \n",
      "7    Moumita Bhattacharya             10.42   \n",
      "8              Apurv Garg              5.17   \n",
      "9           ANAMIKA TYAGI              6.75   \n",
      "10             Sandy Chen              0.00   \n",
      "\n",
      "                               Linkedin_Profile             Contact_Info  Rank  \n",
      "1             www.linkedin.com/in/karan-chandra  karan19031990@gmail.com     1  \n",
      "2   www.linkedin.com/in/ashish-shinde-104727132       github.com/ASHIND6     2  \n",
      "3             www.linkedin.com/in/karansindwani                      NaN     3  \n",
      "4       www.linkedin.com/in/lulu-cheng-97193041                      NaN     4  \n",
      "5               www.linkedin.com/in/apriltang63                      NaN     5  \n",
      "6               www.linkedin.com/in/apriltang63                      NaN     6  \n",
      "7                  www.linkedin.com/in/moumitab                      NaN     7  \n",
      "8                 www.linkedin.com/in/apurvgarg                      NaN     8  \n",
      "9              www.linkedin.com/in/anamikatyagi                      NaN     9  \n",
      "10     www.linkedin.com/in/sandy-chen-9b91b6120                      NaN    10  \n"
     ]
    }
   ],
   "source": [
    "if __name__ == '__main__':\n",
    "    main()"
   ]
  },
  {
   "cell_type": "code",
   "execution_count": null,
   "metadata": {},
   "outputs": [],
   "source": []
  }
 ],
 "metadata": {
  "kernelspec": {
   "display_name": "Python 3",
   "language": "python",
   "name": "python3"
  },
  "language_info": {
   "codemirror_mode": {
    "name": "ipython",
    "version": 3
   },
   "file_extension": ".py",
   "mimetype": "text/x-python",
   "name": "python",
   "nbconvert_exporter": "python",
   "pygments_lexer": "ipython3",
   "version": "3.7.3"
  }
 },
 "nbformat": 4,
 "nbformat_minor": 4
}
